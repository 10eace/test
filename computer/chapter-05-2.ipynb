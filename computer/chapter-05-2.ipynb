{
 "cells": [
  {
   "cell_type": "markdown",
   "id": "cc11a45d",
   "metadata": {},
   "source": [
    "# **ch.05 트리 알고리즘**  \n",
    "## 05-2 교차 검증과 그리드 서치  \n",
    "### 풀어야 할 문제:  \n",
    "> ###  model의 generalization performance를 확인하기 위해 test set을 사용하지 않고 model의 hyperparameter를 tuning하라\n",
    "### *검증 세트*  \n",
    "지금까지 model의 general performance(일반화 성능)를 확인하기 위해 test set을 사용했었음. 그러나 test set을 반복해서 사용하면 점점 test set에 맞추는 셈이 됨  \n",
    "$\\therefore$ test set으로 model의 generl performance를 확인하기 위해서는 가능한 한 test set을 사용하지 말아야 함\n",
    "\n",
    "\n",
    "그렇다면 어떻게 hyperparameter를 tuning할까?  \n",
    "가장 간단한 방법은 train set에서 test set이외에 또 data를 나누는 것  \n",
    "이를 validation data라고 함\n",
    "\n",
    "\n",
    "train set으로 model을 훈련하고 validation set으로 모델을 평가하여 hyperparameter를 tuning함  \n",
    "그 후에 tuned hyperparameter를 사용하여 train set과 validation set을 합쳐 train하고 test set으로 final score를 평가\n",
    "\n",
    "\n",
    "wine data를 준비하여 validation set 만들기  \n",
    "+ data 준비하기"
   ]
  },
  {
   "cell_type": "code",
   "execution_count": 1,
   "id": "44090637",
   "metadata": {},
   "outputs": [],
   "source": [
    "import pandas as pd\n",
    "\n",
    "wine = pd.read_csv('https://bit.ly/wine_csv_data')"
   ]
  },
  {
   "cell_type": "markdown",
   "id": "ed486a34",
   "metadata": {},
   "source": [
    "+ input data(feature data), target data 만들기"
   ]
  },
  {
   "cell_type": "code",
   "execution_count": 2,
   "id": "a7c5b23d",
   "metadata": {},
   "outputs": [],
   "source": [
    "data = wine[['alcohol', 'sugar', 'pH']].to_numpy()\n",
    "target = wine['class'].to_numpy()"
   ]
  },
  {
   "cell_type": "markdown",
   "id": "8b02c779",
   "metadata": {},
   "source": [
    "+ train set, test set 나누기  (test size=0.2)"
   ]
  },
  {
   "cell_type": "code",
   "execution_count": 3,
   "id": "1dc72024",
   "metadata": {},
   "outputs": [],
   "source": [
    "from sklearn.model_selection import train_test_split\n",
    "\n",
    "train_input, test_input, train_target, test_target = train_test_split(data, target, test_size=0.2, random_state=42)"
   ]
  },
  {
   "cell_type": "markdown",
   "id": "9a124808",
   "metadata": {},
   "source": [
    "+ train set에서 validation set 나누기 (validation size=0.2)"
   ]
  },
  {
   "cell_type": "code",
   "execution_count": 4,
   "id": "adf40898",
   "metadata": {},
   "outputs": [],
   "source": [
    "sub_input, val_input, sub_target, val_target = train_test_split(train_input, train_target, test_size=0.2, random_state=42)"
   ]
  },
  {
   "cell_type": "markdown",
   "id": "3a59003e",
   "metadata": {},
   "source": [
    "train set, validation set의 크기 확인"
   ]
  },
  {
   "cell_type": "code",
   "execution_count": 5,
   "id": "04f67a94",
   "metadata": {},
   "outputs": [
    {
     "name": "stdout",
     "output_type": "stream",
     "text": [
      "(4157, 3) (1040, 3)\n"
     ]
    }
   ],
   "source": [
    "print(sub_input.shape, val_input.shape)"
   ]
  },
  {
   "cell_type": "markdown",
   "id": "6fa11a0e",
   "metadata": {},
   "source": [
    "train set과 validation set으로 train model, score model"
   ]
  },
  {
   "cell_type": "code",
   "execution_count": 6,
   "id": "8bd9a10f",
   "metadata": {},
   "outputs": [
    {
     "name": "stdout",
     "output_type": "stream",
     "text": [
      "0.9971133028626413\n",
      "0.864423076923077\n"
     ]
    }
   ],
   "source": [
    "from sklearn.tree import DecisionTreeClassifier\n",
    "\n",
    "dt = DecisionTreeClassifier(random_state=42)\n",
    "\n",
    "dt.fit(sub_input, sub_target)\n",
    "\n",
    "print(dt.score(sub_input, sub_target))\n",
    "print(dt.score(val_input, val_target))"
   ]
  },
  {
   "cell_type": "markdown",
   "id": "315cb362",
   "metadata": {},
   "source": [
    "### *교차 검증*  \n",
    "validation set을 만드느라 train set이 줄었음  \n",
    "보통 많은 data를 train에 사용할수록 좋은 model을 만들 수 있음  \n",
    "그렇다고 validation set을 너무 조금 만들면 validation score의 변동폭이 커지고 불안정해짐  \n",
    "이런 경우에 cross validation을 이용하면 안정적인 score를 얻을 수 있고, train에 더 많은 data를 사용할 수 있음  \n",
    "\n",
    "\n",
    "cross validation은 validation set을 떼어 내어 평가하는 과정을 여러 번 반복한 후, score를 평균하여 fianl validation score를 얻음  \n",
    "cross validation을 활용하면, \n",
    "+ data의 80~90%까지 train에 사용할 수 있음\n",
    "+ validation set이 줄어 각 fold(iteration 1회)의 score는 불안정해 질 수 있지만, 각 fold의 score를 mean하기에 안정적인 score로 판단할 수 있음\n",
    "\n",
    "\n",
    "scikit-learn은 cross_validate() cross validation function을 제공  \n",
    "사용법: \n",
    "+ 평가할 model object를 factor로 전달,  \n",
    "+ validation set을 떼어내지 않고 entire train set을 전달\n",
    "+ cv parameter에 전달하는 splitte의 n_splits parameter에 진행할 fold 수를 지정 (base: 5)\n",
    "\n",
    "cross_validate() fuction은 'fit_time, score_time, test_score'의 key를 가진 dictionary를 return  \n",
    "+ fit_time: model을 train하는 시간\n",
    "+ score_time: validation을 진행하는 시간\n",
    "+ test_score: 각 fold의 score (final mean score가 아님)\n",
    "\n",
    "\n",
    "cross_validate() function을 활용하여 score model"
   ]
  },
  {
   "cell_type": "code",
   "execution_count": 7,
   "id": "9ba536b7",
   "metadata": {
    "scrolled": true
   },
   "outputs": [
    {
     "name": "stdout",
     "output_type": "stream",
     "text": [
      "{'fit_time': array([0.00496626, 0.00441599, 0.00434685, 0.00422406, 0.00409412]), 'score_time': array([0.00043893, 0.0003221 , 0.00027514, 0.00027108, 0.00029373]), 'test_score': array([0.86923077, 0.84615385, 0.87680462, 0.84889317, 0.83541867])}\n"
     ]
    }
   ],
   "source": [
    "from sklearn.model_selection import cross_validate\n",
    "\n",
    "scores = cross_validate(dt, train_input, train_target)\n",
    "\n",
    "print(scores)"
   ]
  },
  {
   "cell_type": "markdown",
   "id": "77f8a778",
   "metadata": {},
   "source": [
    "'test_score' key의 value를 mean하여 final score 확인"
   ]
  },
  {
   "cell_type": "code",
   "execution_count": 8,
   "id": "47172dc8",
   "metadata": {},
   "outputs": [
    {
     "data": {
      "text/plain": [
       "0.855300214703487"
      ]
     },
     "execution_count": 8,
     "metadata": {},
     "output_type": "execute_result"
    }
   ],
   "source": [
    "import numpy as np\n",
    "\n",
    "np.mean(scores['test_score'])"
   ]
  },
  {
   "cell_type": "markdown",
   "id": "426f70f1",
   "metadata": {},
   "source": [
    "cross_validate()는 train set을 섞어 fold를 나누지 않음  \n",
    "$\\therefore$ data를 섞기 위해서는 splitter(분할기)를 지정해야 함 (cv parameter에 splitter 전달)\n",
    "\n",
    "\n",
    "splitter는 cross validation에서 fold를 어떻게 나눌지 결정  \n",
    "cross_validate()는 기본적으로 regression model의 경우 KFod splitter를 사용하고, classification model의 경우 StratifiedKFold를 사용(target class를 골고루 나누기 위해)\n",
    "\n",
    "\n",
    "$\\therefore$ 다음의 splitter를 지정한 code는 앞선 splitter를 지정하지 않은 code와 동일한 작업을 수행"
   ]
  },
  {
   "cell_type": "code",
   "execution_count": 9,
   "id": "aae0236b",
   "metadata": {},
   "outputs": [
    {
     "name": "stdout",
     "output_type": "stream",
     "text": [
      "{'fit_time': array([0.00525308, 0.00453401, 0.00442982, 0.00431323, 0.00418019]), 'score_time': array([0.00055099, 0.0003531 , 0.0002811 , 0.00032902, 0.0002799 ]), 'test_score': array([0.86923077, 0.84615385, 0.87680462, 0.84889317, 0.83541867])}\n"
     ]
    }
   ],
   "source": [
    "from sklearn.model_selection import StratifiedKFold\n",
    "\n",
    "scores = cross_validate(dt, train_input, train_target, cv=StratifiedKFold())\n",
    "\n",
    "print(scores)"
   ]
  },
  {
   "cell_type": "markdown",
   "id": "b449e64b",
   "metadata": {},
   "source": [
    "train set을 섞고, 10-fold cross validation"
   ]
  },
  {
   "cell_type": "code",
   "execution_count": 10,
   "id": "441abe2a",
   "metadata": {},
   "outputs": [
    {
     "name": "stdout",
     "output_type": "stream",
     "text": [
      "{'fit_time': array([0.00611925, 0.00520182, 0.00488591, 0.00484276, 0.00461006,\n",
      "       0.00469494, 0.00485706, 0.00464797, 0.00466084, 0.004601  ]), 'score_time': array([0.00043583, 0.00026011, 0.00019789, 0.00022602, 0.00018311,\n",
      "       0.00018311, 0.0002079 , 0.00017977, 0.00017309, 0.00017285]), 'test_score': array([0.83461538, 0.87884615, 0.85384615, 0.85384615, 0.84615385,\n",
      "       0.87307692, 0.85961538, 0.85549133, 0.85163776, 0.86705202])} 0.8574181117533719\n"
     ]
    }
   ],
   "source": [
    "splitter = StratifiedKFold(n_splits=10, shuffle=True, random_state=42)\n",
    "\n",
    "scores = cross_validate(dt, train_input, train_target, cv=splitter)\n",
    "\n",
    "print(scores, np.mean(scores['test_score']))"
   ]
  },
  {
   "cell_type": "markdown",
   "id": "118e56d4",
   "metadata": {},
   "source": [
    "### *하이퍼파라미터 튜닝*  \n",
    "model parameter: model이 learnin하는 parameter  \n",
    "hyperparameter: model이 학습할 수 없어 사용자가 지정해야 하는 parameter\n",
    "\n",
    "\n",
    "hyperparameter tuning  \n",
    "base value로 model을 train하고, validation set의 score나 cross validation을 통해 parameter를 조금씩 바꿈\n",
    "\n",
    "hyperparameter tuning은 각각의 parameter에 대해 순차적으로 진행하는 것이 아니라, 모든 parameter에 대해 동시적으로 진행해야 함  \n",
    "$\\because$ parameter끼리 영향을 주고받음  \n",
    "이러한 과정은 매우 복잡하기 때문에 scikit-learn에서 제공하는 grid search를 사용\n",
    "\n",
    "\n",
    "scikit-learn의 GridSearchCV class는 hyperparameter searching과 cross validation을 한 번에 수행  \n",
    "&rarr; 따로 cross_validate() function을 사용할 필요가 없음  \n",
    "\n",
    "\n",
    "예제를 통해 practice grid search  \n",
    "기본 parameter를 사용한 decision tree에서 min_impurity_decrease parameter의 최적값 찾기\n",
    "+ import GridSearchCV\n",
    "+ search할 parameter와 serch할 value의 목록을 dictionary로 만들기"
   ]
  },
  {
   "cell_type": "code",
   "execution_count": 11,
   "id": "af1c7220",
   "metadata": {},
   "outputs": [],
   "source": [
    "from sklearn.model_selection import GridSearchCV\n",
    "\n",
    "params = {'min_impurity_decrease': [0.0001, 0.0002, 0.0003, 0.0004, 0.0005]}"
   ]
  },
  {
   "cell_type": "markdown",
   "id": "d7fcd2dc",
   "metadata": {},
   "source": [
    "+ generate GridSearchCV object\n",
    "\n",
    "\n",
    "GridSearchCV의 cv parameter의 basic value는 5  \n",
    "$\\therefore$ min_impurity_decrease value마다 5-fold cross validation 수행  \n",
    "많은 model(5\\*5=25)을 train하기 때문에 parallel(병렬) 실행할 cpu core 수를 지정하는 n_jobs parameter를 -1로 지정하여 모든 core 사용"
   ]
  },
  {
   "cell_type": "code",
   "execution_count": 12,
   "id": "527fb0e3",
   "metadata": {},
   "outputs": [],
   "source": [
    "gs = GridSearchCV(DecisionTreeClassifier(random_state=42), params, n_jobs=-1)"
   ]
  },
  {
   "cell_type": "markdown",
   "id": "0a2a55c1",
   "metadata": {},
   "source": [
    "+ fit() method로 grid search 진행"
   ]
  },
  {
   "cell_type": "code",
   "execution_count": 13,
   "id": "5a9d729d",
   "metadata": {},
   "outputs": [
    {
     "data": {
      "text/html": [
       "<style>#sk-container-id-1 {color: black;background-color: white;}#sk-container-id-1 pre{padding: 0;}#sk-container-id-1 div.sk-toggleable {background-color: white;}#sk-container-id-1 label.sk-toggleable__label {cursor: pointer;display: block;width: 100%;margin-bottom: 0;padding: 0.3em;box-sizing: border-box;text-align: center;}#sk-container-id-1 label.sk-toggleable__label-arrow:before {content: \"▸\";float: left;margin-right: 0.25em;color: #696969;}#sk-container-id-1 label.sk-toggleable__label-arrow:hover:before {color: black;}#sk-container-id-1 div.sk-estimator:hover label.sk-toggleable__label-arrow:before {color: black;}#sk-container-id-1 div.sk-toggleable__content {max-height: 0;max-width: 0;overflow: hidden;text-align: left;background-color: #f0f8ff;}#sk-container-id-1 div.sk-toggleable__content pre {margin: 0.2em;color: black;border-radius: 0.25em;background-color: #f0f8ff;}#sk-container-id-1 input.sk-toggleable__control:checked~div.sk-toggleable__content {max-height: 200px;max-width: 100%;overflow: auto;}#sk-container-id-1 input.sk-toggleable__control:checked~label.sk-toggleable__label-arrow:before {content: \"▾\";}#sk-container-id-1 div.sk-estimator input.sk-toggleable__control:checked~label.sk-toggleable__label {background-color: #d4ebff;}#sk-container-id-1 div.sk-label input.sk-toggleable__control:checked~label.sk-toggleable__label {background-color: #d4ebff;}#sk-container-id-1 input.sk-hidden--visually {border: 0;clip: rect(1px 1px 1px 1px);clip: rect(1px, 1px, 1px, 1px);height: 1px;margin: -1px;overflow: hidden;padding: 0;position: absolute;width: 1px;}#sk-container-id-1 div.sk-estimator {font-family: monospace;background-color: #f0f8ff;border: 1px dotted black;border-radius: 0.25em;box-sizing: border-box;margin-bottom: 0.5em;}#sk-container-id-1 div.sk-estimator:hover {background-color: #d4ebff;}#sk-container-id-1 div.sk-parallel-item::after {content: \"\";width: 100%;border-bottom: 1px solid gray;flex-grow: 1;}#sk-container-id-1 div.sk-label:hover label.sk-toggleable__label {background-color: #d4ebff;}#sk-container-id-1 div.sk-serial::before {content: \"\";position: absolute;border-left: 1px solid gray;box-sizing: border-box;top: 0;bottom: 0;left: 50%;z-index: 0;}#sk-container-id-1 div.sk-serial {display: flex;flex-direction: column;align-items: center;background-color: white;padding-right: 0.2em;padding-left: 0.2em;position: relative;}#sk-container-id-1 div.sk-item {position: relative;z-index: 1;}#sk-container-id-1 div.sk-parallel {display: flex;align-items: stretch;justify-content: center;background-color: white;position: relative;}#sk-container-id-1 div.sk-item::before, #sk-container-id-1 div.sk-parallel-item::before {content: \"\";position: absolute;border-left: 1px solid gray;box-sizing: border-box;top: 0;bottom: 0;left: 50%;z-index: -1;}#sk-container-id-1 div.sk-parallel-item {display: flex;flex-direction: column;z-index: 1;position: relative;background-color: white;}#sk-container-id-1 div.sk-parallel-item:first-child::after {align-self: flex-end;width: 50%;}#sk-container-id-1 div.sk-parallel-item:last-child::after {align-self: flex-start;width: 50%;}#sk-container-id-1 div.sk-parallel-item:only-child::after {width: 0;}#sk-container-id-1 div.sk-dashed-wrapped {border: 1px dashed gray;margin: 0 0.4em 0.5em 0.4em;box-sizing: border-box;padding-bottom: 0.4em;background-color: white;}#sk-container-id-1 div.sk-label label {font-family: monospace;font-weight: bold;display: inline-block;line-height: 1.2em;}#sk-container-id-1 div.sk-label-container {text-align: center;}#sk-container-id-1 div.sk-container {/* jupyter's `normalize.less` sets `[hidden] { display: none; }` but bootstrap.min.css set `[hidden] { display: none !important; }` so we also need the `!important` here to be able to override the default hidden behavior on the sphinx rendered scikit-learn.org. See: https://github.com/scikit-learn/scikit-learn/issues/21755 */display: inline-block !important;position: relative;}#sk-container-id-1 div.sk-text-repr-fallback {display: none;}</style><div id=\"sk-container-id-1\" class=\"sk-top-container\"><div class=\"sk-text-repr-fallback\"><pre>GridSearchCV(estimator=DecisionTreeClassifier(random_state=42), n_jobs=-1,\n",
       "             param_grid={&#x27;min_impurity_decrease&#x27;: [0.0001, 0.0002, 0.0003,\n",
       "                                                   0.0004, 0.0005]})</pre><b>In a Jupyter environment, please rerun this cell to show the HTML representation or trust the notebook. <br />On GitHub, the HTML representation is unable to render, please try loading this page with nbviewer.org.</b></div><div class=\"sk-container\" hidden><div class=\"sk-item sk-dashed-wrapped\"><div class=\"sk-label-container\"><div class=\"sk-label sk-toggleable\"><input class=\"sk-toggleable__control sk-hidden--visually\" id=\"sk-estimator-id-1\" type=\"checkbox\" ><label for=\"sk-estimator-id-1\" class=\"sk-toggleable__label sk-toggleable__label-arrow\">GridSearchCV</label><div class=\"sk-toggleable__content\"><pre>GridSearchCV(estimator=DecisionTreeClassifier(random_state=42), n_jobs=-1,\n",
       "             param_grid={&#x27;min_impurity_decrease&#x27;: [0.0001, 0.0002, 0.0003,\n",
       "                                                   0.0004, 0.0005]})</pre></div></div></div><div class=\"sk-parallel\"><div class=\"sk-parallel-item\"><div class=\"sk-item\"><div class=\"sk-label-container\"><div class=\"sk-label sk-toggleable\"><input class=\"sk-toggleable__control sk-hidden--visually\" id=\"sk-estimator-id-2\" type=\"checkbox\" ><label for=\"sk-estimator-id-2\" class=\"sk-toggleable__label sk-toggleable__label-arrow\">estimator: DecisionTreeClassifier</label><div class=\"sk-toggleable__content\"><pre>DecisionTreeClassifier(random_state=42)</pre></div></div></div><div class=\"sk-serial\"><div class=\"sk-item\"><div class=\"sk-estimator sk-toggleable\"><input class=\"sk-toggleable__control sk-hidden--visually\" id=\"sk-estimator-id-3\" type=\"checkbox\" ><label for=\"sk-estimator-id-3\" class=\"sk-toggleable__label sk-toggleable__label-arrow\">DecisionTreeClassifier</label><div class=\"sk-toggleable__content\"><pre>DecisionTreeClassifier(random_state=42)</pre></div></div></div></div></div></div></div></div></div></div>"
      ],
      "text/plain": [
       "GridSearchCV(estimator=DecisionTreeClassifier(random_state=42), n_jobs=-1,\n",
       "             param_grid={'min_impurity_decrease': [0.0001, 0.0002, 0.0003,\n",
       "                                                   0.0004, 0.0005]})"
      ]
     },
     "execution_count": 13,
     "metadata": {},
     "output_type": "execute_result"
    }
   ],
   "source": [
    "gs.fit(train_input, train_target)"
   ]
  },
  {
   "cell_type": "markdown",
   "id": "aebffeef",
   "metadata": {},
   "source": [
    "scikit-learn의 grid search는 train이 끝나면 25개의 model 중에서 validation score가 가장 높은 model의 parameter 조합으로 train set에서 다시 model을 train함  \n",
    "이 model은 class object의 best_estimator_ attribute에 저장되어 있음\n",
    "\n",
    "\n",
    "best_estimator_의 model 평가"
   ]
  },
  {
   "cell_type": "code",
   "execution_count": 14,
   "id": "26223084",
   "metadata": {},
   "outputs": [
    {
     "name": "stdout",
     "output_type": "stream",
     "text": [
      "0.9615162593804117\n"
     ]
    }
   ],
   "source": [
    "dt = gs.best_estimator_\n",
    "\n",
    "print(dt.score(train_input, train_target))"
   ]
  },
  {
   "cell_type": "markdown",
   "id": "ec5dbcea",
   "metadata": {},
   "source": [
    "grid search로 찾은 최적의 parameters는 best_params_ attribute에 저장되어 있음\n",
    "\n",
    "\n",
    "best_params_ 확인"
   ]
  },
  {
   "cell_type": "code",
   "execution_count": 15,
   "id": "9595edc9",
   "metadata": {},
   "outputs": [
    {
     "name": "stdout",
     "output_type": "stream",
     "text": [
      "{'min_impurity_decrease': 0.0001}\n"
     ]
    }
   ],
   "source": [
    "print(gs.best_params_)"
   ]
  },
  {
   "cell_type": "markdown",
   "id": "443f4851",
   "metadata": {},
   "source": [
    "각 parameter에서 수행한 cross validation의 평균 score는 cv_results_ attribute의 'mean_test_score'key의 value로 저장되어 있음\n",
    "\n",
    "\n",
    "score 확인"
   ]
  },
  {
   "cell_type": "code",
   "execution_count": 16,
   "id": "f0b2f2e6",
   "metadata": {},
   "outputs": [
    {
     "name": "stdout",
     "output_type": "stream",
     "text": [
      "[0.86819297 0.86453617 0.86492226 0.86780891 0.86761605]\n"
     ]
    }
   ],
   "source": [
    "print(gs.cv_results_['mean_test_score'])"
   ]
  },
  {
   "cell_type": "markdown",
   "id": "55b57f92",
   "metadata": {},
   "source": [
    "min_impurity_decrease에 max_depth, min_samples_split parameter도 tuning하기\n",
    "\n",
    "\n",
    "serch할 parameter와 value를 dictionary로 만들기  \n",
    "+ np.arange() function은 첫 번째 parameter value에서 두 번째 parameter에 도달할 때까지 세 번째 parameter를 계속 더한 array를 만듦\n",
    "+ range() function은 integer scale에서 np.arange() function과 비슷한 작업 수행"
   ]
  },
  {
   "cell_type": "code",
   "execution_count": 17,
   "id": "0f9cb247",
   "metadata": {},
   "outputs": [],
   "source": [
    "params = {'min_impurity_decrease':np.arange(0.0001, 0.001, 0.0001), 'max_depth':range(5, 20, 1),'min_samples_split':range(2, 100, 10)}"
   ]
  },
  {
   "cell_type": "markdown",
   "id": "e3e56121",
   "metadata": {},
   "source": [
    "이 parameter로 수행할 cross validation은 9*15*10=1350 회이고, 각 5-fold cross validation을 수행하므로 만들어지는 model은 1350*5=6750개\n",
    "\n",
    "\n",
    "n_jobs parameter를 -1로 지정하여 grid search 실행"
   ]
  },
  {
   "cell_type": "code",
   "execution_count": 18,
   "id": "4400d910",
   "metadata": {},
   "outputs": [
    {
     "data": {
      "text/html": [
       "<style>#sk-container-id-2 {color: black;background-color: white;}#sk-container-id-2 pre{padding: 0;}#sk-container-id-2 div.sk-toggleable {background-color: white;}#sk-container-id-2 label.sk-toggleable__label {cursor: pointer;display: block;width: 100%;margin-bottom: 0;padding: 0.3em;box-sizing: border-box;text-align: center;}#sk-container-id-2 label.sk-toggleable__label-arrow:before {content: \"▸\";float: left;margin-right: 0.25em;color: #696969;}#sk-container-id-2 label.sk-toggleable__label-arrow:hover:before {color: black;}#sk-container-id-2 div.sk-estimator:hover label.sk-toggleable__label-arrow:before {color: black;}#sk-container-id-2 div.sk-toggleable__content {max-height: 0;max-width: 0;overflow: hidden;text-align: left;background-color: #f0f8ff;}#sk-container-id-2 div.sk-toggleable__content pre {margin: 0.2em;color: black;border-radius: 0.25em;background-color: #f0f8ff;}#sk-container-id-2 input.sk-toggleable__control:checked~div.sk-toggleable__content {max-height: 200px;max-width: 100%;overflow: auto;}#sk-container-id-2 input.sk-toggleable__control:checked~label.sk-toggleable__label-arrow:before {content: \"▾\";}#sk-container-id-2 div.sk-estimator input.sk-toggleable__control:checked~label.sk-toggleable__label {background-color: #d4ebff;}#sk-container-id-2 div.sk-label input.sk-toggleable__control:checked~label.sk-toggleable__label {background-color: #d4ebff;}#sk-container-id-2 input.sk-hidden--visually {border: 0;clip: rect(1px 1px 1px 1px);clip: rect(1px, 1px, 1px, 1px);height: 1px;margin: -1px;overflow: hidden;padding: 0;position: absolute;width: 1px;}#sk-container-id-2 div.sk-estimator {font-family: monospace;background-color: #f0f8ff;border: 1px dotted black;border-radius: 0.25em;box-sizing: border-box;margin-bottom: 0.5em;}#sk-container-id-2 div.sk-estimator:hover {background-color: #d4ebff;}#sk-container-id-2 div.sk-parallel-item::after {content: \"\";width: 100%;border-bottom: 1px solid gray;flex-grow: 1;}#sk-container-id-2 div.sk-label:hover label.sk-toggleable__label {background-color: #d4ebff;}#sk-container-id-2 div.sk-serial::before {content: \"\";position: absolute;border-left: 1px solid gray;box-sizing: border-box;top: 0;bottom: 0;left: 50%;z-index: 0;}#sk-container-id-2 div.sk-serial {display: flex;flex-direction: column;align-items: center;background-color: white;padding-right: 0.2em;padding-left: 0.2em;position: relative;}#sk-container-id-2 div.sk-item {position: relative;z-index: 1;}#sk-container-id-2 div.sk-parallel {display: flex;align-items: stretch;justify-content: center;background-color: white;position: relative;}#sk-container-id-2 div.sk-item::before, #sk-container-id-2 div.sk-parallel-item::before {content: \"\";position: absolute;border-left: 1px solid gray;box-sizing: border-box;top: 0;bottom: 0;left: 50%;z-index: -1;}#sk-container-id-2 div.sk-parallel-item {display: flex;flex-direction: column;z-index: 1;position: relative;background-color: white;}#sk-container-id-2 div.sk-parallel-item:first-child::after {align-self: flex-end;width: 50%;}#sk-container-id-2 div.sk-parallel-item:last-child::after {align-self: flex-start;width: 50%;}#sk-container-id-2 div.sk-parallel-item:only-child::after {width: 0;}#sk-container-id-2 div.sk-dashed-wrapped {border: 1px dashed gray;margin: 0 0.4em 0.5em 0.4em;box-sizing: border-box;padding-bottom: 0.4em;background-color: white;}#sk-container-id-2 div.sk-label label {font-family: monospace;font-weight: bold;display: inline-block;line-height: 1.2em;}#sk-container-id-2 div.sk-label-container {text-align: center;}#sk-container-id-2 div.sk-container {/* jupyter's `normalize.less` sets `[hidden] { display: none; }` but bootstrap.min.css set `[hidden] { display: none !important; }` so we also need the `!important` here to be able to override the default hidden behavior on the sphinx rendered scikit-learn.org. See: https://github.com/scikit-learn/scikit-learn/issues/21755 */display: inline-block !important;position: relative;}#sk-container-id-2 div.sk-text-repr-fallback {display: none;}</style><div id=\"sk-container-id-2\" class=\"sk-top-container\"><div class=\"sk-text-repr-fallback\"><pre>GridSearchCV(estimator=DecisionTreeClassifier(random_state=42), n_jobs=-1,\n",
       "             param_grid={&#x27;max_depth&#x27;: range(5, 20),\n",
       "                         &#x27;min_impurity_decrease&#x27;: array([0.0001, 0.0002, 0.0003, 0.0004, 0.0005, 0.0006, 0.0007, 0.0008,\n",
       "       0.0009]),\n",
       "                         &#x27;min_samples_split&#x27;: range(2, 100, 10)})</pre><b>In a Jupyter environment, please rerun this cell to show the HTML representation or trust the notebook. <br />On GitHub, the HTML representation is unable to render, please try loading this page with nbviewer.org.</b></div><div class=\"sk-container\" hidden><div class=\"sk-item sk-dashed-wrapped\"><div class=\"sk-label-container\"><div class=\"sk-label sk-toggleable\"><input class=\"sk-toggleable__control sk-hidden--visually\" id=\"sk-estimator-id-4\" type=\"checkbox\" ><label for=\"sk-estimator-id-4\" class=\"sk-toggleable__label sk-toggleable__label-arrow\">GridSearchCV</label><div class=\"sk-toggleable__content\"><pre>GridSearchCV(estimator=DecisionTreeClassifier(random_state=42), n_jobs=-1,\n",
       "             param_grid={&#x27;max_depth&#x27;: range(5, 20),\n",
       "                         &#x27;min_impurity_decrease&#x27;: array([0.0001, 0.0002, 0.0003, 0.0004, 0.0005, 0.0006, 0.0007, 0.0008,\n",
       "       0.0009]),\n",
       "                         &#x27;min_samples_split&#x27;: range(2, 100, 10)})</pre></div></div></div><div class=\"sk-parallel\"><div class=\"sk-parallel-item\"><div class=\"sk-item\"><div class=\"sk-label-container\"><div class=\"sk-label sk-toggleable\"><input class=\"sk-toggleable__control sk-hidden--visually\" id=\"sk-estimator-id-5\" type=\"checkbox\" ><label for=\"sk-estimator-id-5\" class=\"sk-toggleable__label sk-toggleable__label-arrow\">estimator: DecisionTreeClassifier</label><div class=\"sk-toggleable__content\"><pre>DecisionTreeClassifier(random_state=42)</pre></div></div></div><div class=\"sk-serial\"><div class=\"sk-item\"><div class=\"sk-estimator sk-toggleable\"><input class=\"sk-toggleable__control sk-hidden--visually\" id=\"sk-estimator-id-6\" type=\"checkbox\" ><label for=\"sk-estimator-id-6\" class=\"sk-toggleable__label sk-toggleable__label-arrow\">DecisionTreeClassifier</label><div class=\"sk-toggleable__content\"><pre>DecisionTreeClassifier(random_state=42)</pre></div></div></div></div></div></div></div></div></div></div>"
      ],
      "text/plain": [
       "GridSearchCV(estimator=DecisionTreeClassifier(random_state=42), n_jobs=-1,\n",
       "             param_grid={'max_depth': range(5, 20),\n",
       "                         'min_impurity_decrease': array([0.0001, 0.0002, 0.0003, 0.0004, 0.0005, 0.0006, 0.0007, 0.0008,\n",
       "       0.0009]),\n",
       "                         'min_samples_split': range(2, 100, 10)})"
      ]
     },
     "execution_count": 18,
     "metadata": {},
     "output_type": "execute_result"
    }
   ],
   "source": [
    "gs = GridSearchCV(DecisionTreeClassifier(random_state=42), params, n_jobs=-1)\n",
    "\n",
    "gs.fit(train_input, train_target)"
   ]
  },
  {
   "cell_type": "markdown",
   "id": "f0f95550",
   "metadata": {},
   "source": [
    "최적의 pararmeter 조합 확인"
   ]
  },
  {
   "cell_type": "code",
   "execution_count": 19,
   "id": "47b7f2b8",
   "metadata": {},
   "outputs": [
    {
     "name": "stdout",
     "output_type": "stream",
     "text": [
      "{'max_depth': 14, 'min_impurity_decrease': 0.0004, 'min_samples_split': 12}\n"
     ]
    }
   ],
   "source": [
    "print(gs.best_params_)"
   ]
  },
  {
   "cell_type": "markdown",
   "id": "d903f313",
   "metadata": {},
   "source": [
    "최상의 cross validation score 확인"
   ]
  },
  {
   "cell_type": "code",
   "execution_count": 20,
   "id": "43195389",
   "metadata": {},
   "outputs": [
    {
     "name": "stdout",
     "output_type": "stream",
     "text": [
      "0.8683865773302731\n"
     ]
    }
   ],
   "source": [
    "print(np.max(gs.cv_results_['mean_test_score']))"
   ]
  },
  {
   "cell_type": "markdown",
   "id": "1018d463",
   "metadata": {},
   "source": [
    "grid search로 최적의 parameter 조합을 찾아내기는 했지만, parameter value의 간격은 임의로 정한 것, 이보다 조금 더 좁거나 넓은 간격으로 시도해 볼 수는 없을까?\n",
    "\n",
    "\n",
    "### *랜덤 서치*  \n",
    "parameter value가 수치일 때, value의 범위나 간격을 미리 정하기 어려움  \n",
    "또한 너무 많은 parameter가 있어 grid search 시간이 오래 걸릴 수 있음  \n",
    "이 때 유용한 것이 random search\n",
    "\n",
    "\n",
    "random search에는 parameter value의 목록을 전달하는 것이 아니라 parameter를 sampling할 수 있는 probability distribution을 전달\n",
    "\n",
    "\n",
    "probability distribution 알아보기  \n",
    "+ scipy의 probability distribution class를 import"
   ]
  },
  {
   "cell_type": "code",
   "execution_count": 21,
   "id": "ecd1abf8",
   "metadata": {},
   "outputs": [],
   "source": [
    "from scipy.stats import uniform, randint"
   ]
  },
  {
   "cell_type": "markdown",
   "id": "60948f2a",
   "metadata": {},
   "source": [
    "uniform: 주어진 실수 범위에서 고르게 value를 뽑는 기능 수행 (균등 분포(uniform distribution)에서 sampling)  \n",
    "randint: 주어진 정수 범위 uniform distribution에서 sampling\n",
    "\n",
    "\n",
    "+ 0~10 사이의 범위를 갖는 randint object를 만들고 10개의 숫자를 sampling"
   ]
  },
  {
   "cell_type": "code",
   "execution_count": 22,
   "id": "21fea52f",
   "metadata": {},
   "outputs": [
    {
     "data": {
      "text/plain": [
       "array([2, 4, 7, 8, 8, 4, 7, 0, 8, 2])"
      ]
     },
     "execution_count": 22,
     "metadata": {},
     "output_type": "execute_result"
    }
   ],
   "source": [
    "rgen = randint(0, 10)\n",
    "rgen.rvs(10)"
   ]
  },
  {
   "cell_type": "markdown",
   "id": "8b292835",
   "metadata": {},
   "source": [
    "10개 밖에 sampling하지 않았기에 고르지는 않아 보이지만, 수를 늘리면 고르다는 것을 확인할 수 있음\n",
    "\n",
    "\n",
    "+ 1000개를 sampling해서 각 숫자의 개수 세기"
   ]
  },
  {
   "cell_type": "code",
   "execution_count": 23,
   "id": "e9ba35f6",
   "metadata": {},
   "outputs": [
    {
     "data": {
      "text/plain": [
       "(array([0, 1, 2, 3, 4, 5, 6, 7, 8, 9]),\n",
       " array([ 96,  88,  96, 101, 104, 127, 105, 115,  84,  84]))"
      ]
     },
     "execution_count": 23,
     "metadata": {},
     "output_type": "execute_result"
    }
   ],
   "source": [
    "np.unique(rgen.rvs(1000), return_counts=True)"
   ]
  },
  {
   "cell_type": "markdown",
   "id": "9a1367f8",
   "metadata": {},
   "source": [
    "+ 0~1 사이에서 10개 실수 sampling"
   ]
  },
  {
   "cell_type": "code",
   "execution_count": 24,
   "id": "81ee1353",
   "metadata": {},
   "outputs": [
    {
     "data": {
      "text/plain": [
       "array([0.5694066 , 0.84175432, 0.07334713, 0.0394574 , 0.10817733,\n",
       "       0.72033466, 0.11231128, 0.21322461, 0.55766991, 0.12842676])"
      ]
     },
     "execution_count": 24,
     "metadata": {},
     "output_type": "execute_result"
    }
   ],
   "source": [
    "ugen = uniform(0, 1)\n",
    "ugen.rvs(10)"
   ]
  },
  {
   "cell_type": "markdown",
   "id": "c7eb79d8",
   "metadata": {},
   "source": [
    "두 class는 난수 발생기와 유사  \n",
    "random search에 randint와 uniform object를 넘겨주고 총 몇 번을 sampling할 지 지정할 수 있음  \n",
    "sampling 횟수는 system resource가 허용하는 범위 내에서 최대한 크게 하는 것이 좋음\n",
    "\n",
    "\n",
    "search할 parameter dictionary 만들기  \n",
    "leaf node가 되기 위한 minimum sample 개수를 지정하는 min_samples_leaf parameter도 search 대상에 추가"
   ]
  },
  {
   "cell_type": "code",
   "execution_count": 25,
   "id": "4fdd296c",
   "metadata": {},
   "outputs": [],
   "source": [
    "params = {'min_impurity_decrease': uniform(0.0001, 0.001),\n",
    "         'max_depth': randint(20, 50),\n",
    "         'min_samples_split': randint(2, 25), \n",
    "         'min_samples_leaf': randint(1, 25)\n",
    "         }"
   ]
  },
  {
   "cell_type": "markdown",
   "id": "c4615f11",
   "metadata": {},
   "source": [
    "random search class인 RandomizedSearchCV를 import,  \n",
    "n_iter parameter에 sampling할 횟수(100) 전달,  \n",
    "random search 수행"
   ]
  },
  {
   "cell_type": "code",
   "execution_count": 26,
   "id": "aafd1599",
   "metadata": {},
   "outputs": [
    {
     "data": {
      "text/html": [
       "<style>#sk-container-id-3 {color: black;background-color: white;}#sk-container-id-3 pre{padding: 0;}#sk-container-id-3 div.sk-toggleable {background-color: white;}#sk-container-id-3 label.sk-toggleable__label {cursor: pointer;display: block;width: 100%;margin-bottom: 0;padding: 0.3em;box-sizing: border-box;text-align: center;}#sk-container-id-3 label.sk-toggleable__label-arrow:before {content: \"▸\";float: left;margin-right: 0.25em;color: #696969;}#sk-container-id-3 label.sk-toggleable__label-arrow:hover:before {color: black;}#sk-container-id-3 div.sk-estimator:hover label.sk-toggleable__label-arrow:before {color: black;}#sk-container-id-3 div.sk-toggleable__content {max-height: 0;max-width: 0;overflow: hidden;text-align: left;background-color: #f0f8ff;}#sk-container-id-3 div.sk-toggleable__content pre {margin: 0.2em;color: black;border-radius: 0.25em;background-color: #f0f8ff;}#sk-container-id-3 input.sk-toggleable__control:checked~div.sk-toggleable__content {max-height: 200px;max-width: 100%;overflow: auto;}#sk-container-id-3 input.sk-toggleable__control:checked~label.sk-toggleable__label-arrow:before {content: \"▾\";}#sk-container-id-3 div.sk-estimator input.sk-toggleable__control:checked~label.sk-toggleable__label {background-color: #d4ebff;}#sk-container-id-3 div.sk-label input.sk-toggleable__control:checked~label.sk-toggleable__label {background-color: #d4ebff;}#sk-container-id-3 input.sk-hidden--visually {border: 0;clip: rect(1px 1px 1px 1px);clip: rect(1px, 1px, 1px, 1px);height: 1px;margin: -1px;overflow: hidden;padding: 0;position: absolute;width: 1px;}#sk-container-id-3 div.sk-estimator {font-family: monospace;background-color: #f0f8ff;border: 1px dotted black;border-radius: 0.25em;box-sizing: border-box;margin-bottom: 0.5em;}#sk-container-id-3 div.sk-estimator:hover {background-color: #d4ebff;}#sk-container-id-3 div.sk-parallel-item::after {content: \"\";width: 100%;border-bottom: 1px solid gray;flex-grow: 1;}#sk-container-id-3 div.sk-label:hover label.sk-toggleable__label {background-color: #d4ebff;}#sk-container-id-3 div.sk-serial::before {content: \"\";position: absolute;border-left: 1px solid gray;box-sizing: border-box;top: 0;bottom: 0;left: 50%;z-index: 0;}#sk-container-id-3 div.sk-serial {display: flex;flex-direction: column;align-items: center;background-color: white;padding-right: 0.2em;padding-left: 0.2em;position: relative;}#sk-container-id-3 div.sk-item {position: relative;z-index: 1;}#sk-container-id-3 div.sk-parallel {display: flex;align-items: stretch;justify-content: center;background-color: white;position: relative;}#sk-container-id-3 div.sk-item::before, #sk-container-id-3 div.sk-parallel-item::before {content: \"\";position: absolute;border-left: 1px solid gray;box-sizing: border-box;top: 0;bottom: 0;left: 50%;z-index: -1;}#sk-container-id-3 div.sk-parallel-item {display: flex;flex-direction: column;z-index: 1;position: relative;background-color: white;}#sk-container-id-3 div.sk-parallel-item:first-child::after {align-self: flex-end;width: 50%;}#sk-container-id-3 div.sk-parallel-item:last-child::after {align-self: flex-start;width: 50%;}#sk-container-id-3 div.sk-parallel-item:only-child::after {width: 0;}#sk-container-id-3 div.sk-dashed-wrapped {border: 1px dashed gray;margin: 0 0.4em 0.5em 0.4em;box-sizing: border-box;padding-bottom: 0.4em;background-color: white;}#sk-container-id-3 div.sk-label label {font-family: monospace;font-weight: bold;display: inline-block;line-height: 1.2em;}#sk-container-id-3 div.sk-label-container {text-align: center;}#sk-container-id-3 div.sk-container {/* jupyter's `normalize.less` sets `[hidden] { display: none; }` but bootstrap.min.css set `[hidden] { display: none !important; }` so we also need the `!important` here to be able to override the default hidden behavior on the sphinx rendered scikit-learn.org. See: https://github.com/scikit-learn/scikit-learn/issues/21755 */display: inline-block !important;position: relative;}#sk-container-id-3 div.sk-text-repr-fallback {display: none;}</style><div id=\"sk-container-id-3\" class=\"sk-top-container\"><div class=\"sk-text-repr-fallback\"><pre>RandomizedSearchCV(estimator=DecisionTreeClassifier(random_state=42),\n",
       "                   n_iter=100, n_jobs=-1,\n",
       "                   param_distributions={&#x27;max_depth&#x27;: &lt;scipy.stats._distn_infrastructure.rv_discrete_frozen object at 0x13cf8d7d0&gt;,\n",
       "                                        &#x27;min_impurity_decrease&#x27;: &lt;scipy.stats._distn_infrastructure.rv_continuous_frozen object at 0x13cf9bad0&gt;,\n",
       "                                        &#x27;min_samples_leaf&#x27;: &lt;scipy.stats._distn_infrastructure.rv_discrete_frozen object at 0x13cf86250&gt;,\n",
       "                                        &#x27;min_samples_split&#x27;: &lt;scipy.stats._distn_infrastructure.rv_discrete_frozen object at 0x13cf852d0&gt;},\n",
       "                   random_state=42)</pre><b>In a Jupyter environment, please rerun this cell to show the HTML representation or trust the notebook. <br />On GitHub, the HTML representation is unable to render, please try loading this page with nbviewer.org.</b></div><div class=\"sk-container\" hidden><div class=\"sk-item sk-dashed-wrapped\"><div class=\"sk-label-container\"><div class=\"sk-label sk-toggleable\"><input class=\"sk-toggleable__control sk-hidden--visually\" id=\"sk-estimator-id-7\" type=\"checkbox\" ><label for=\"sk-estimator-id-7\" class=\"sk-toggleable__label sk-toggleable__label-arrow\">RandomizedSearchCV</label><div class=\"sk-toggleable__content\"><pre>RandomizedSearchCV(estimator=DecisionTreeClassifier(random_state=42),\n",
       "                   n_iter=100, n_jobs=-1,\n",
       "                   param_distributions={&#x27;max_depth&#x27;: &lt;scipy.stats._distn_infrastructure.rv_discrete_frozen object at 0x13cf8d7d0&gt;,\n",
       "                                        &#x27;min_impurity_decrease&#x27;: &lt;scipy.stats._distn_infrastructure.rv_continuous_frozen object at 0x13cf9bad0&gt;,\n",
       "                                        &#x27;min_samples_leaf&#x27;: &lt;scipy.stats._distn_infrastructure.rv_discrete_frozen object at 0x13cf86250&gt;,\n",
       "                                        &#x27;min_samples_split&#x27;: &lt;scipy.stats._distn_infrastructure.rv_discrete_frozen object at 0x13cf852d0&gt;},\n",
       "                   random_state=42)</pre></div></div></div><div class=\"sk-parallel\"><div class=\"sk-parallel-item\"><div class=\"sk-item\"><div class=\"sk-label-container\"><div class=\"sk-label sk-toggleable\"><input class=\"sk-toggleable__control sk-hidden--visually\" id=\"sk-estimator-id-8\" type=\"checkbox\" ><label for=\"sk-estimator-id-8\" class=\"sk-toggleable__label sk-toggleable__label-arrow\">estimator: DecisionTreeClassifier</label><div class=\"sk-toggleable__content\"><pre>DecisionTreeClassifier(random_state=42)</pre></div></div></div><div class=\"sk-serial\"><div class=\"sk-item\"><div class=\"sk-estimator sk-toggleable\"><input class=\"sk-toggleable__control sk-hidden--visually\" id=\"sk-estimator-id-9\" type=\"checkbox\" ><label for=\"sk-estimator-id-9\" class=\"sk-toggleable__label sk-toggleable__label-arrow\">DecisionTreeClassifier</label><div class=\"sk-toggleable__content\"><pre>DecisionTreeClassifier(random_state=42)</pre></div></div></div></div></div></div></div></div></div></div>"
      ],
      "text/plain": [
       "RandomizedSearchCV(estimator=DecisionTreeClassifier(random_state=42),\n",
       "                   n_iter=100, n_jobs=-1,\n",
       "                   param_distributions={'max_depth': <scipy.stats._distn_infrastructure.rv_discrete_frozen object at 0x13cf8d7d0>,\n",
       "                                        'min_impurity_decrease': <scipy.stats._distn_infrastructure.rv_continuous_frozen object at 0x13cf9bad0>,\n",
       "                                        'min_samples_leaf': <scipy.stats._distn_infrastructure.rv_discrete_frozen object at 0x13cf86250>,\n",
       "                                        'min_samples_split': <scipy.stats._distn_infrastructure.rv_discrete_frozen object at 0x13cf852d0>},\n",
       "                   random_state=42)"
      ]
     },
     "execution_count": 26,
     "metadata": {},
     "output_type": "execute_result"
    }
   ],
   "source": [
    "from sklearn.model_selection import RandomizedSearchCV\n",
    "\n",
    "gs = RandomizedSearchCV(DecisionTreeClassifier(random_state=42), params, n_iter=100, n_jobs=-1, random_state=42)\n",
    "\n",
    "gs.fit(train_input, train_target)"
   ]
  },
  {
   "cell_type": "markdown",
   "id": "a1c61bc3",
   "metadata": {},
   "source": [
    "결과 확인  \n",
    "+ 최적의 parameter 조합 확인"
   ]
  },
  {
   "cell_type": "code",
   "execution_count": 27,
   "id": "46c5602f",
   "metadata": {},
   "outputs": [
    {
     "name": "stdout",
     "output_type": "stream",
     "text": [
      "{'max_depth': 39, 'min_impurity_decrease': 0.00034102546602601173, 'min_samples_leaf': 7, 'min_samples_split': 13}\n"
     ]
    }
   ],
   "source": [
    "print(gs.best_params_)"
   ]
  },
  {
   "cell_type": "markdown",
   "id": "762b9539",
   "metadata": {},
   "source": [
    "+ 최고의 cross validation score 확인"
   ]
  },
  {
   "cell_type": "code",
   "execution_count": 28,
   "id": "7984348b",
   "metadata": {},
   "outputs": [
    {
     "name": "stdout",
     "output_type": "stream",
     "text": [
      "0.8695428296438884\n"
     ]
    }
   ],
   "source": [
    "print(np.max(gs.cv_results_['mean_test_score']))"
   ]
  },
  {
   "cell_type": "markdown",
   "id": "d37060b0",
   "metadata": {},
   "source": [
    "+ 최적의 model을 활용하여 test set에 대한 score 확인"
   ]
  },
  {
   "cell_type": "code",
   "execution_count": 29,
   "id": "55b60104",
   "metadata": {},
   "outputs": [
    {
     "data": {
      "text/plain": [
       "0.86"
      ]
     },
     "execution_count": 29,
     "metadata": {},
     "output_type": "execute_result"
    }
   ],
   "source": [
    "dt = gs.best_estimator_\n",
    "\n",
    "dt.score(test_input, test_target)"
   ]
  },
  {
   "cell_type": "markdown",
   "id": "9bee7c19",
   "metadata": {},
   "source": [
    "test set에 대한 score가 validation set보다 조금 낮은 것이 일반적  \n",
    "score가 아주 만족스럽지는 않지만, test set을 활용하지 않고 최적의 parameter를 찾아냄"
   ]
  }
 ],
 "metadata": {
  "kernelspec": {
   "display_name": "Python 3 (ipykernel)",
   "language": "python",
   "name": "python3"
  },
  "language_info": {
   "codemirror_mode": {
    "name": "ipython",
    "version": 3
   },
   "file_extension": ".py",
   "mimetype": "text/x-python",
   "name": "python",
   "nbconvert_exporter": "python",
   "pygments_lexer": "ipython3",
   "version": "3.11.0"
  }
 },
 "nbformat": 4,
 "nbformat_minor": 5
}
